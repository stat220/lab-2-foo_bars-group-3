{
  "nbformat": 4,
  "nbformat_minor": 0,
  "metadata": {
    "colab": {
      "provenance": []
    },
    "kernelspec": {
      "name": "python3",
      "display_name": "Python 3"
    },
    "language_info": {
      "name": "python"
    }
  },
  "cells": [
    {
      "cell_type": "markdown",
      "source": [
        "# Lab 2\n",
        "With Adam Rustad, Ethan Bang, Cassidy Grover, Joshua Yamada"
      ],
      "metadata": {
        "id": "IzWqLIIyk6qs"
      }
    },
    {
      "cell_type": "code",
      "source": [
        "import itertools\n",
        "import pandas as pd\n",
        "import numpy as np\n",
        "\n",
        "# List out all possible rolls, in this case for 3d6\n",
        "rolls = list(itertools.product(range(1, 7), repeat=3))\n",
        "\n",
        "# Find the sum of all possible rolls\n",
        "sums = np.array([sum(roll) for roll in rolls])\n",
        "\n",
        "# Find the proportion of those sums that are greater than or equal to the target, in this case 14\n",
        "np.mean(sums >= 14)"
      ],
      "metadata": {
        "colab": {
          "base_uri": "https://localhost:8080/"
        },
        "id": "PBbICU-CmYiO",
        "outputId": "3597359a-e8c3-4c6a-cdf3-e5f9436abd10"
      },
      "execution_count": 39,
      "outputs": [
        {
          "output_type": "execute_result",
          "data": {
            "text/plain": [
              "0.16203703703703703"
            ]
          },
          "metadata": {},
          "execution_count": 39
        }
      ]
    },
    {
      "cell_type": "markdown",
      "source": [
        "### Scenario a"
      ],
      "metadata": {
        "id": "YJpbfv_zlxAr"
      }
    },
    {
      "cell_type": "code",
      "source": [
        "def scenario_a(m, n, x, debug = False):\n",
        "  \"\"\"Returns the probability that the sum of m n-sided dice is greater than or\n",
        "  equal to x\"\"\"\n",
        "\n",
        "  #m is amount of dice (max 4)\n",
        "  if m > 4:\n",
        "    return RuntimeError(\"Too many dice\")\n",
        "\n",
        "  #N is the number sides max 20\n",
        "  if n > 20:\n",
        "    return RuntimeError(\"Too many sides\")\n",
        "\n",
        "  #Probability (n + 1 to include that number)\n",
        "  rolls = list(itertools.product(range(1, n+1), repeat=m))\n",
        "\n",
        "  # Find the sum of all possible rolls\n",
        "  sums = np.array([sum(roll) for roll in rolls])\n",
        "\n",
        "  if debug:\n",
        "    print(f\"The Sums: {sums}\")\n",
        "\n",
        "\n",
        "  # Find the proportion of those sums that are greater than or equal to the target\n",
        "  return np.mean(sums >= x) #True and false array\n"
      ],
      "metadata": {
        "id": "5momsitnlwlP"
      },
      "execution_count": 40,
      "outputs": []
    },
    {
      "cell_type": "code",
      "source": [
        "#Test function\n",
        "scenario_a(3, 6, 14, True)"
      ],
      "metadata": {
        "colab": {
          "base_uri": "https://localhost:8080/"
        },
        "id": "GuWh1ye5n7zn",
        "outputId": "113e4927-c821-4778-a8e9-ebbd3d5d0267"
      },
      "execution_count": 41,
      "outputs": [
        {
          "output_type": "stream",
          "name": "stdout",
          "text": [
            "The Sums: [ 3  4  5  6  7  8  4  5  6  7  8  9  5  6  7  8  9 10  6  7  8  9 10 11\n",
            "  7  8  9 10 11 12  8  9 10 11 12 13  4  5  6  7  8  9  5  6  7  8  9 10\n",
            "  6  7  8  9 10 11  7  8  9 10 11 12  8  9 10 11 12 13  9 10 11 12 13 14\n",
            "  5  6  7  8  9 10  6  7  8  9 10 11  7  8  9 10 11 12  8  9 10 11 12 13\n",
            "  9 10 11 12 13 14 10 11 12 13 14 15  6  7  8  9 10 11  7  8  9 10 11 12\n",
            "  8  9 10 11 12 13  9 10 11 12 13 14 10 11 12 13 14 15 11 12 13 14 15 16\n",
            "  7  8  9 10 11 12  8  9 10 11 12 13  9 10 11 12 13 14 10 11 12 13 14 15\n",
            " 11 12 13 14 15 16 12 13 14 15 16 17  8  9 10 11 12 13  9 10 11 12 13 14\n",
            " 10 11 12 13 14 15 11 12 13 14 15 16 12 13 14 15 16 17 13 14 15 16 17 18]\n"
          ]
        },
        {
          "output_type": "execute_result",
          "data": {
            "text/plain": [
              "0.16203703703703703"
            ]
          },
          "metadata": {},
          "execution_count": 41
        }
      ]
    },
    {
      "cell_type": "markdown",
      "source": [
        "### Scenario B"
      ],
      "metadata": {
        "id": "wCm_hMMimfdt"
      }
    },
    {
      "cell_type": "code",
      "source": [
        "def scenario_b(m, n, x, debug = False):\n",
        "  \"\"\"Determining the probability of rolling m dice, each with n sides, and having at least one die\n",
        "  show a value greater than or equal to x.\"\"\"\n",
        "\n",
        "\n",
        "  #m is amount of dice (max 4)\n",
        "  if m > 4:\n",
        "    return RuntimeError(\"Too many dice\")\n",
        "\n",
        "  #N is the number sides max 20\n",
        "  if n > 20:\n",
        "    return RuntimeError(\"Too many sides\")\n",
        "\n",
        "  #Probability (n + 1 to include that number)\n",
        "  rolls = list(itertools.product(range(1, n+1), repeat=m))\n",
        "\n",
        "  if debug:\n",
        "    print(f\"The rolls: {rolls}\")\n",
        "\n",
        "  # Find the sum of all possible rolls\n",
        "  roll_seperated = np.array([roll for roll in rolls])\n",
        "\n",
        "  if debug:\n",
        "    print(f\"The roll_seperated: {roll_seperated}\")\n",
        "\n",
        "  # Find the proportion of those sums that are greater than or equal to the target\n",
        "  num_success = 0\n",
        "  for roll in roll_seperated:\n",
        "    if (roll >= x).any():\n",
        "      num_success += 1\n",
        "\n",
        "  return num_success/len(roll_seperated)\n"
      ],
      "metadata": {
        "id": "3QEICZvDk6YG"
      },
      "execution_count": 42,
      "outputs": []
    },
    {
      "cell_type": "code",
      "source": [
        "(np.array([1,3,1]) > 4).any()"
      ],
      "metadata": {
        "colab": {
          "base_uri": "https://localhost:8080/"
        },
        "id": "ppBDTvYwqyxT",
        "outputId": "2bcc5784-51a0-48ee-e961-7a5a53278621"
      },
      "execution_count": 43,
      "outputs": [
        {
          "output_type": "execute_result",
          "data": {
            "text/plain": [
              "False"
            ]
          },
          "metadata": {},
          "execution_count": 43
        }
      ]
    },
    {
      "cell_type": "code",
      "execution_count": 44,
      "metadata": {
        "id": "OhbV45AOktDE",
        "colab": {
          "base_uri": "https://localhost:8080/"
        },
        "outputId": "d8f7b2dd-c552-4aca-f8bc-ff6884e3acd7"
      },
      "outputs": [
        {
          "output_type": "execute_result",
          "data": {
            "text/plain": [
              "0.0"
            ]
          },
          "metadata": {},
          "execution_count": 44
        }
      ],
      "source": [
        "# Testing if there would be an instance of rolling a 7 or greater with 3x 6-side die; it should result as impossible (0.0)\n",
        "scenario_b(3, 6, 7, False)"
      ]
    },
    {
      "cell_type": "code",
      "source": [
        "# Testing the probability of an instance of rolling a 6 or greater with 3x 6-side die\n",
        "scenario_b(3, 6, 6, False)"
      ],
      "metadata": {
        "colab": {
          "base_uri": "https://localhost:8080/"
        },
        "id": "1MiHO6O_pPbI",
        "outputId": "fef90ac0-9377-41c7-a9f5-2b01315a72ba"
      },
      "execution_count": 45,
      "outputs": [
        {
          "output_type": "execute_result",
          "data": {
            "text/plain": [
              "0.4212962962962963"
            ]
          },
          "metadata": {},
          "execution_count": 45
        }
      ]
    },
    {
      "cell_type": "code",
      "source": [
        "# Testing the probability of an instance of rolling a 0 or greater with 3x 6-side die; it should result in 1.0 (you can't roll lower than 1 on any roll)\n",
        "scenario_b(3, 6, 0, False)"
      ],
      "metadata": {
        "colab": {
          "base_uri": "https://localhost:8080/"
        },
        "id": "3EqloSHCpwLG",
        "outputId": "b777ac07-e13e-4e2d-b35b-823083c72c50"
      },
      "execution_count": 47,
      "outputs": [
        {
          "output_type": "execute_result",
          "data": {
            "text/plain": [
              "1.0"
            ]
          },
          "metadata": {},
          "execution_count": 47
        }
      ]
    },
    {
      "cell_type": "code",
      "source": [
        "# Option 1\n",
        "# Evaluating the probability of rolling 1d20 and get a result of 17 or more\n",
        "scenario_a(1, 20, 17)"
      ],
      "metadata": {
        "colab": {
          "base_uri": "https://localhost:8080/"
        },
        "id": "wG7A7SrQ8zOQ",
        "outputId": "cc8b673e-cca7-482b-bbb7-eed31ea22737"
      },
      "execution_count": 49,
      "outputs": [
        {
          "output_type": "execute_result",
          "data": {
            "text/plain": [
              "0.2"
            ]
          },
          "metadata": {},
          "execution_count": 49
        }
      ]
    },
    {
      "cell_type": "code",
      "source": [
        "# Option 2\n",
        "# evaluating the probability of rolling 3d4 and get a result of 10 or more\n",
        "scenario_a(3, 4, 10)"
      ],
      "metadata": {
        "colab": {
          "base_uri": "https://localhost:8080/"
        },
        "id": "KLPgJXEC9ACy",
        "outputId": "86d21024-2211-4c56-e603-ad960c784534"
      },
      "execution_count": 52,
      "outputs": [
        {
          "output_type": "execute_result",
          "data": {
            "text/plain": [
              "0.15625"
            ]
          },
          "metadata": {},
          "execution_count": 52
        }
      ]
    },
    {
      "cell_type": "code",
      "source": [
        "# Option 3\n",
        "# evaluating the probability of rolling 4d6 and have at least one dice show a 6\n",
        "scenario_b(4, 6, 6)"
      ],
      "metadata": {
        "colab": {
          "base_uri": "https://localhost:8080/"
        },
        "id": "tIaaDwFw9Q2h",
        "outputId": "f4dd04de-7324-4848-fe33-71fd51225cd5"
      },
      "execution_count": 54,
      "outputs": [
        {
          "output_type": "execute_result",
          "data": {
            "text/plain": [
              "0.5177469135802469"
            ]
          },
          "metadata": {},
          "execution_count": 54
        }
      ]
    },
    {
      "cell_type": "markdown",
      "source": [
        "The first two options utilize the same scenario as Scenario A where we are calculating the probabilities of the sum of our rolls. Option 3 utilizes the same scenario as Scenario B where we calculate the probability of rolling at least one instance where the number sought after or greater is rolled. From the given options, the probabilities of option 1, 2, and 3 are respectively about 0.200, 0.156, 0.518. Looking at these probabilities, Option 3 clearly has the highest chance of occuring because there only has to be one occurrance of a 6 and in all combinations of rolling 4d6 a 6 shows up more than half the time. Option 1 is similar to how Option 3 functions, but since only one dice is rolled the probability is equal to the probability of rolling that number plus the probability of rolling each number greater than it. The least likely to happen is Option 2 because the maximum sum that one could roll with 3d4 is 12 meaning that as the required sum nears 12 the probability of rolling 10 or greater decreases because there are less combinations that satisfy the requirement."
      ],
      "metadata": {
        "id": "uEo4YlPO9xOt"
      }
    }
  ]
}